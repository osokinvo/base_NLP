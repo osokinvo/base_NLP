{
 "cells": [
  {
   "cell_type": "code",
   "execution_count": 1,
   "metadata": {},
   "outputs": [],
   "source": [
    "import pandas as pd"
   ]
  },
  {
   "cell_type": "code",
   "execution_count": 2,
   "metadata": {},
   "outputs": [],
   "source": [
    "df_list = [['just tokenization', 0.4768211920529801, 0.9642384105960264, 0.46357615894039733],\n",
    "    ['stemming', 0.5220522052205221, 0.9747974797479748, 0.5148514851485149],\n",
    "    ['lemmatization', 0.48531810766721045, 0.9445350734094616, 0.48694942903752036],\n",
    "    ['stemming +', 0.4871287128712871, 0.9544554455445544, 0.49306930693069306],\n",
    "    ['misspellings', 0.5170357751277683, 0.9522998296422487, 0.5017035775127768],\n",
    "    ['lemmatization + misspellings', 0.5133214920071048, 0.933392539964476, 0.522202486678508],\n",
    "    ['other ideas', 0.54337899543379, 0.91324200913242, 0.5525114155251142]]\n",
    "label = ['Metod', 'The word exists', 'Word counts', 'TFIDF']\n",
    "df = pd.DataFrame(df_list, columns=label)"
   ]
  },
  {
   "cell_type": "code",
   "execution_count": 3,
   "metadata": {},
   "outputs": [
    {
     "data": {
      "text/html": [
       "<div>\n",
       "<style scoped>\n",
       "    .dataframe tbody tr th:only-of-type {\n",
       "        vertical-align: middle;\n",
       "    }\n",
       "\n",
       "    .dataframe tbody tr th {\n",
       "        vertical-align: top;\n",
       "    }\n",
       "\n",
       "    .dataframe thead th {\n",
       "        text-align: right;\n",
       "    }\n",
       "</style>\n",
       "<table border=\"1\" class=\"dataframe\">\n",
       "  <thead>\n",
       "    <tr style=\"text-align: right;\">\n",
       "      <th></th>\n",
       "      <th>Metod</th>\n",
       "      <th>The word exists</th>\n",
       "      <th>Word counts</th>\n",
       "      <th>TFIDF</th>\n",
       "    </tr>\n",
       "  </thead>\n",
       "  <tbody>\n",
       "    <tr>\n",
       "      <th>0</th>\n",
       "      <td>just tokenization</td>\n",
       "      <td>0.476821</td>\n",
       "      <td>0.964238</td>\n",
       "      <td>0.463576</td>\n",
       "    </tr>\n",
       "    <tr>\n",
       "      <th>1</th>\n",
       "      <td>stemming</td>\n",
       "      <td>0.522052</td>\n",
       "      <td>0.974797</td>\n",
       "      <td>0.514851</td>\n",
       "    </tr>\n",
       "    <tr>\n",
       "      <th>2</th>\n",
       "      <td>lemmatization</td>\n",
       "      <td>0.485318</td>\n",
       "      <td>0.944535</td>\n",
       "      <td>0.486949</td>\n",
       "    </tr>\n",
       "    <tr>\n",
       "      <th>3</th>\n",
       "      <td>stemming +</td>\n",
       "      <td>0.487129</td>\n",
       "      <td>0.954455</td>\n",
       "      <td>0.493069</td>\n",
       "    </tr>\n",
       "    <tr>\n",
       "      <th>4</th>\n",
       "      <td>misspellings</td>\n",
       "      <td>0.517036</td>\n",
       "      <td>0.952300</td>\n",
       "      <td>0.501704</td>\n",
       "    </tr>\n",
       "    <tr>\n",
       "      <th>5</th>\n",
       "      <td>lemmatization + misspellings</td>\n",
       "      <td>0.513321</td>\n",
       "      <td>0.933393</td>\n",
       "      <td>0.522202</td>\n",
       "    </tr>\n",
       "    <tr>\n",
       "      <th>6</th>\n",
       "      <td>other ideas</td>\n",
       "      <td>0.543379</td>\n",
       "      <td>0.913242</td>\n",
       "      <td>0.552511</td>\n",
       "    </tr>\n",
       "  </tbody>\n",
       "</table>\n",
       "</div>"
      ],
      "text/plain": [
       "                          Metod  The word exists  Word counts     TFIDF\n",
       "0             just tokenization         0.476821     0.964238  0.463576\n",
       "1                      stemming         0.522052     0.974797  0.514851\n",
       "2                 lemmatization         0.485318     0.944535  0.486949\n",
       "3                    stemming +         0.487129     0.954455  0.493069\n",
       "4                  misspellings         0.517036     0.952300  0.501704\n",
       "5  lemmatization + misspellings         0.513321     0.933393  0.522202\n",
       "6                   other ideas         0.543379     0.913242  0.552511"
      ]
     },
     "execution_count": 3,
     "metadata": {},
     "output_type": "execute_result"
    }
   ],
   "source": [
    "df"
   ]
  }
 ],
 "metadata": {
  "interpreter": {
   "hash": "31f2aee4e71d21fbe5cf8b01ff0e069b9275f58929596ceb00d14d90e3e16cd6"
  },
  "kernelspec": {
   "display_name": "Python 3.6.9 64-bit",
   "language": "python",
   "name": "python3"
  },
  "language_info": {
   "codemirror_mode": {
    "name": "ipython",
    "version": 3
   },
   "file_extension": ".py",
   "mimetype": "text/x-python",
   "name": "python",
   "nbconvert_exporter": "python",
   "pygments_lexer": "ipython3",
   "version": "3.6.9"
  },
  "orig_nbformat": 4
 },
 "nbformat": 4,
 "nbformat_minor": 2
}
